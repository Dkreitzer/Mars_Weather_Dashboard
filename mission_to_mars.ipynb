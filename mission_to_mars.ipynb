{
 "cells": [
  {
   "cell_type": "code",
   "execution_count": 1,
   "metadata": {},
   "outputs": [],
   "source": [
    "# Dependencies\n",
    "\n",
    "from bs4 import BeautifulSoup as bs\n",
    "import pandas as pd\n",
    "import requests\n",
    "from splinter import Browser\n",
    "import lxml.html\n",
    "import re\n",
    "import datetime"
   ]
  },
  {
   "cell_type": "code",
   "execution_count": 2,
   "metadata": {},
   "outputs": [],
   "source": [
    "### URL's to be scraped\n",
    "\n",
    "# NASA Mars News Site - collect the latest News Title and Paragraph Text\n",
    "news_url = 'https://mars.nasa.gov/news/?page=0&per_page=40&order=publish_date+desc%2Ccreated_at+desc&search=&category=19%2C165%2C184%2C204&blank_scope=Latest'\n",
    "nasa_homeurl = 'https://mars.nasa.gov'\n",
    "\n",
    "# JPL Mars Space Images\n",
    "jpl_url = 'https://www.jpl.nasa.gov/spaceimages/?search=&category=Mars'\n",
    "PIAStart = \"https://www.jpl.nasa.gov/spaceimages/images/largesize/\"\n",
    "PIAEnd = \"_hires.jpg\"\n",
    "\n",
    "# Mars Weather - grab latest weather from Mars Weather twitter account\n",
    "weather_url = 'https://twitter.com/marswxreport?lang=en'\n",
    "\n",
    "# Mars Facts - use Pandas to scrape the table containing facts (more details below)\n",
    "facts_url = 'https://space-facts.com/mars/'\n",
    "\n",
    "# Mars Hemisphere Image - create a dictionary with the image url string and the hemisphere title to a list (more details below)\n",
    "Hems_url = 'https://astrogeology.usgs.gov/search/results?q=hemisphere+enhanced&k1=target&v1=Mars'\n",
    "usgsStart = \"https://astrogeology.usgs.gov\"\n",
    "\n",
    "# Splinter Path\n",
    "# Finally figured out why we needed splinter vs. requests.get, the target we were looking for isn't in the html\n",
    "# source code, it is dynamically loaded as JS and isn't searchable unless the browser is opened with splinter.\n",
    "executable_path = {'executable_path': 'chromedriver'}\n",
    "browser = Browser('chrome', **executable_path, headless=True)"
   ]
  },
  {
   "cell_type": "code",
   "execution_count": 3,
   "metadata": {},
   "outputs": [
    {
     "name": "stdout",
     "output_type": "stream",
     "text": [
      "Nasa Featured Title is:  InSight Is Catching Rays on Mars\n",
      "Nasa Featured Title Teaser is:  The lander has sent data indicating its solar panels are open and receiving sunlight to power its surface operations.\n",
      "Link to the Nasa Featured Title is:  https://mars.nasa.gov/news/8393/insight-is-catching-rays-on-mars\n"
     ]
    }
   ],
   "source": [
    "##### NASA Mars News\n",
    "##### Using new_url, find the top featured title and teaser for the story\n",
    "\n",
    "\n",
    "\n",
    "\n",
    "browser.visit(news_url)\n",
    "html = browser.html\n",
    "soup = bs(html, 'lxml-xml')\n",
    "\n",
    "featured_title =  soup.find('div', class_='content_title').a.text\n",
    "featured_teaser = soup.find('div', class_='article_teaser_body').text\n",
    "nasa_titlelink = re.findall('href=\"([^ ]*)/', str(soup.find('div', class_='content_title')))\n",
    "featured_link = nasa_homeurl+nasa_titlelink[0]\n",
    "\n",
    "print(\"Nasa Featured Title is: \",featured_title)\n",
    "print(\"Nasa Featured Title Teaser is: \",featured_teaser)\n",
    "print(\"Link to the Nasa Featured Title is: \",featured_link)"
   ]
  },
  {
   "cell_type": "code",
   "execution_count": 4,
   "metadata": {},
   "outputs": [
    {
     "name": "stdout",
     "output_type": "stream",
     "text": [
      "JPS Mars Space Image URL is:  https://www.jpl.nasa.gov/spaceimages/images/largesize/PIA20263_hires.jpg\n"
     ]
    }
   ],
   "source": [
    "######### JPL Mars Space Image URL (Largesize jpg)\n",
    "browser.visit(jpl_url)\n",
    "html = browser.html\n",
    "soup = bs(html, 'lxml-xml')\n",
    "picurlraw = soup.find('div', class_='carousel_items')\n",
    "\n",
    "for link in picurlraw.find_all('a'):\n",
    "    test99 = (link.get('data-fancybox-href'))\n",
    "\n",
    "aspos = test99.find('PIA')\n",
    "PIA = test99[aspos : (test99.find('_', aspos))]\n",
    "\n",
    "featured_image_url = PIAStart + PIA + PIAEnd\n",
    "print(\"JPS Mars Space Image URL is: \", featured_image_url)"
   ]
  },
  {
   "cell_type": "code",
   "execution_count": 5,
   "metadata": {},
   "outputs": [
    {
     "data": {
      "text/plain": [
       "'Sol 2240 (2018-11-24), high 0C/32F, low -70C/-93F, pressure at 8.49 hPa, daylight 06:28-18:44'"
      ]
     },
     "execution_count": 5,
     "metadata": {},
     "output_type": "execute_result"
    }
   ],
   "source": [
    "######### Mars Twitter Weather URL\n",
    "browser.visit(weather_url)\n",
    "html = browser.html\n",
    "soup = bs(html, 'lxml-xml')\n",
    "tweetraw = soup.find('div', class_='js-tweet-text-container')\n",
    "\n",
    "tweetfix = tweetraw.find('p')\n",
    "tweetwords = []\n",
    "for x in tweetfix:\n",
    "    tweetwords.append(str(x))\n",
    "mars_weather = tweetwords[0]\n",
    "mars_weather"
   ]
  },
  {
   "cell_type": "code",
   "execution_count": 7,
   "metadata": {},
   "outputs": [
    {
     "name": "stdout",
     "output_type": "stream",
     "text": [
      "Table successfully saved as html\n"
     ]
    },
    {
     "data": {
      "text/html": [
       "<div>\n",
       "<style scoped>\n",
       "    .dataframe tbody tr th:only-of-type {\n",
       "        vertical-align: middle;\n",
       "    }\n",
       "\n",
       "    .dataframe tbody tr th {\n",
       "        vertical-align: top;\n",
       "    }\n",
       "\n",
       "    .dataframe thead th {\n",
       "        text-align: right;\n",
       "    }\n",
       "</style>\n",
       "<table border=\"1\" class=\"dataframe\">\n",
       "  <thead>\n",
       "    <tr style=\"text-align: right;\">\n",
       "      <th></th>\n",
       "      <th></th>\n",
       "      <th></th>\n",
       "    </tr>\n",
       "  </thead>\n",
       "  <tbody>\n",
       "    <tr>\n",
       "      <th>0</th>\n",
       "      <td>Equatorial Diameter:</td>\n",
       "      <td>6,792 km\\n</td>\n",
       "    </tr>\n",
       "    <tr>\n",
       "      <th>1</th>\n",
       "      <td>Polar Diameter:</td>\n",
       "      <td>6,752 km\\n</td>\n",
       "    </tr>\n",
       "    <tr>\n",
       "      <th>2</th>\n",
       "      <td>Mass:</td>\n",
       "      <td>6.42 x 10^23 kg (10.7% Earth)</td>\n",
       "    </tr>\n",
       "    <tr>\n",
       "      <th>3</th>\n",
       "      <td>Moons:</td>\n",
       "      <td>2 (Phobos &amp; Deimos)</td>\n",
       "    </tr>\n",
       "    <tr>\n",
       "      <th>4</th>\n",
       "      <td>Orbit Distance:</td>\n",
       "      <td>227,943,824 km (1.52 AU)</td>\n",
       "    </tr>\n",
       "    <tr>\n",
       "      <th>5</th>\n",
       "      <td>Orbit Period:</td>\n",
       "      <td>687 days (1.9 years)\\n</td>\n",
       "    </tr>\n",
       "    <tr>\n",
       "      <th>6</th>\n",
       "      <td>Surface Temperature:</td>\n",
       "      <td>-153 to 20 °C</td>\n",
       "    </tr>\n",
       "    <tr>\n",
       "      <th>7</th>\n",
       "      <td>First Record:</td>\n",
       "      <td>2nd millennium BC</td>\n",
       "    </tr>\n",
       "    <tr>\n",
       "      <th>8</th>\n",
       "      <td>Recorded By:</td>\n",
       "      <td>Egyptian astronomers</td>\n",
       "    </tr>\n",
       "  </tbody>\n",
       "</table>\n",
       "</div>"
      ],
      "text/plain": [
       "                                                       \n",
       "0   Equatorial Diameter:                     6,792 km\\n\n",
       "1        Polar Diameter:                     6,752 km\\n\n",
       "2                  Mass:  6.42 x 10^23 kg (10.7% Earth)\n",
       "3                 Moons:            2 (Phobos & Deimos)\n",
       "4        Orbit Distance:       227,943,824 km (1.52 AU)\n",
       "5          Orbit Period:         687 days (1.9 years)\\n\n",
       "6  Surface Temperature:                   -153 to 20 °C\n",
       "7          First Record:              2nd millennium BC\n",
       "8           Recorded By:           Egyptian astronomers"
      ]
     },
     "execution_count": 7,
     "metadata": {},
     "output_type": "execute_result"
    }
   ],
   "source": [
    "######### Mars Facts - Scrape table with pandas\n",
    "\n",
    "browser.visit(facts_url)\n",
    "html = browser.html\n",
    "soup = bs(html, 'lxml-xml')\n",
    "tableraw = soup.find('table', attrs={'id':'tablepress-mars'})\n",
    "table_rows = tableraw.find_all('tr')\n",
    "\n",
    "dataList = []\n",
    "for tr in table_rows:\n",
    "    td = tr.find_all('td')\n",
    "    row = [tr.text for tr in td]\n",
    "    dataList.append(row)\n",
    "marsDF = pd.DataFrame(dataList, columns=[\" \", \" \"])\n",
    "marsHTML = marsDF.to_html(index=False)\n",
    "print(\"Table successfully saved as html\")\n",
    "marsDF"
   ]
  },
  {
   "cell_type": "code",
   "execution_count": 33,
   "metadata": {},
   "outputs": [
    {
     "data": {
      "text/plain": [
       "[{'title': 'Cerberus Hemisphere Enhanced',\n",
       "  'img_url': 'https://astrogeology.usgs.gov/cache/images/cfa62af2557222a02478f1fcd781d445_cerberus_enhanced.tif_full.jpg'},\n",
       " {'title': 'Schiaparelli Hemisphere Enhanced',\n",
       "  'img_url': 'https://astrogeology.usgs.gov/cache/images/3cdd1cbf5e0813bba925c9030d13b62e_schiaparelli_enhanced.tif_full.jpg'},\n",
       " {'title': 'Syrtis Major Hemisphere Enhanced',\n",
       "  'img_url': 'https://astrogeology.usgs.gov/cache/images/ae209b4e408bb6c3e67b6af38168cf28_syrtis_major_enhanced.tif_full.jpg'},\n",
       " {'title': 'Valles Marineris Hemisphere Enhanced',\n",
       "  'img_url': 'https://astrogeology.usgs.gov/cache/images/7cf2da4bf549ed01c17f206327be4db7_valles_marineris_enhanced.tif_full.jpg'}]"
      ]
     },
     "execution_count": 33,
     "metadata": {},
     "output_type": "execute_result"
    }
   ],
   "source": [
    "hemisphere_image_urls = []\n",
    "hemisphere_image_urls.append({\"title\":cerberusTitle, \"img_url\":cerberusLink})\n",
    "hemisphere_image_urls.append({\"title\":schiapTitle, \"img_url\":schiapLink})\n",
    "hemisphere_image_urls.append({\"title\":SyrtisTitle, \"img_url\":SyrtisLink})\n",
    "hemisphere_image_urls.append({\"title\":VallesTitle, \"img_url\":VallesLink})\n",
    "hemisphere_image_urls"
   ]
  },
  {
   "cell_type": "code",
   "execution_count": 34,
   "metadata": {},
   "outputs": [
    {
     "data": {
      "text/plain": [
       "[{'title': 'Cerberus Hemisphere Enhanced',\n",
       "  'img_url': 'https://astrogeology.usgs.gov/cache/images/cfa62af2557222a02478f1fcd781d445_cerberus_enhanced.tif_full.jpg'},\n",
       " {'title': 'Schiaparelli Hemisphere Enhanced',\n",
       "  'img_url': 'https://astrogeology.usgs.gov/cache/images/3cdd1cbf5e0813bba925c9030d13b62e_schiaparelli_enhanced.tif_full.jpg'},\n",
       " {'title': 'Syrtis Major Hemisphere Enhanced',\n",
       "  'img_url': 'https://astrogeology.usgs.gov/cache/images/ae209b4e408bb6c3e67b6af38168cf28_syrtis_major_enhanced.tif_full.jpg'},\n",
       " {'title': 'Valles Marineris Hemisphere Enhanced',\n",
       "  'img_url': 'https://astrogeology.usgs.gov/cache/images/7cf2da4bf549ed01c17f206327be4db7_valles_marineris_enhanced.tif_full.jpg'}]"
      ]
     },
     "execution_count": 34,
     "metadata": {},
     "output_type": "execute_result"
    }
   ],
   "source": [
    "######### Images of Mars Hemispheres ###############\n",
    "HemisphereTitles = []\n",
    "HemisphereLinks = []\n",
    "hemisphere_image_urls = []\n",
    "# Cerverus\n",
    "cerberusUrl = \"https://astrogeology.usgs.gov/search/map/Mars/Viking/cerberus_enhanced\"\n",
    "browser.visit(cerberusUrl)\n",
    "html = browser.html\n",
    "soup = bs(html, 'lxml-xml')\n",
    "cerberusHome = soup.find('img', class_='wide-image')\n",
    "cerberusStrRaw = (str(cerberusHome))\n",
    "cerberusPart = cerberusStrRaw[(cerberusStrRaw.find('/cache')):(cerberusStrRaw.find('jpg')+3)]\n",
    "cerberusLink = usgsStart + cerberusPart\n",
    "cerberusTitle = soup.find('h2', class_='title').text\n",
    "HemisphereTitles.append(cerberusTitle)\n",
    "HemisphereLinks.append(cerberusLink)\n",
    "\n",
    "#Schiaparelli\n",
    "schiaparelliUrl = \"https://astrogeology.usgs.gov/search/map/Mars/Viking/schiaparelli_enhanced\"\n",
    "browser.visit(schiaparelliUrl)\n",
    "html = browser.html\n",
    "soup = bs(html, 'lxml-xml')\n",
    "schiaparelliHome = soup.find('img', class_='wide-image')\n",
    "schiapStrRaw = (str(schiaparelliHome))\n",
    "schiapPart = schiapStrRaw[(schiapStrRaw.find('/cache')):(schiapStrRaw.find('jpg')+3)]\n",
    "schiapLink = usgsStart + schiapPart\n",
    "schiapTitle = soup.find('h2', class_='title').text\n",
    "HemisphereTitles.append(schiapTitle)\n",
    "HemisphereLinks.append(schiapLink)\n",
    "\n",
    "#Syrtis\n",
    "SyrtisUrl = \"https://astrogeology.usgs.gov/search/map/Mars/Viking/syrtis_major_enhanced\"\n",
    "browser.visit(SyrtisUrl)\n",
    "html = browser.html\n",
    "soup = bs(html, 'lxml-xml')\n",
    "SyrtisHome = soup.find('img', class_='wide-image')\n",
    "SyrtisStrRaw = (str(SyrtisHome))\n",
    "SyrtisPart = SyrtisStrRaw[(SyrtisStrRaw.find('/cache')):(SyrtisStrRaw.find('jpg')+3)]\n",
    "SyrtisLink = usgsStart + SyrtisPart\n",
    "SyrtisTitle = soup.find('h2', class_='title').text\n",
    "HemisphereTitles.append(SyrtisTitle)\n",
    "HemisphereLinks.append(SyrtisLink)\n",
    "\n",
    "#Valles\n",
    "VallesUrl = \"https://astrogeology.usgs.gov/search/map/Mars/Viking/valles_marineris_enhanced\"\n",
    "browser.visit(VallesUrl)\n",
    "html = browser.html\n",
    "soup = bs(html, 'lxml-xml')\n",
    "VallesHome = soup.find('img', class_='wide-image')\n",
    "VallesStrRaw = (str(VallesHome))\n",
    "VallesPart = VallesStrRaw[(VallesStrRaw.find('/cache')):(VallesStrRaw.find('jpg')+3)]\n",
    "VallesLink = usgsStart + VallesPart\n",
    "VallesTitle = soup.find('h2', class_='title').text\n",
    "HemisphereTitles.append(VallesTitle)\n",
    "HemisphereLinks.append(VallesLink)\n",
    "\n",
    "#### Create List of Dictionaries for Hemispheres\n",
    "hemisphere_image_urls.append({\"title\":cerberusTitle, \"img_url\":cerberusLink})\n",
    "hemisphere_image_urls.append({\"title\":schiapTitle, \"img_url\":schiapLink})\n",
    "hemisphere_image_urls.append({\"title\":SyrtisTitle, \"img_url\":SyrtisLink})\n",
    "hemisphere_image_urls.append({\"title\":VallesTitle, \"img_url\":VallesLink})\n",
    "hemisphere_image_urls"
   ]
  },
  {
   "cell_type": "code",
   "execution_count": 39,
   "metadata": {},
   "outputs": [
    {
     "data": {
      "text/plain": [
       "{'hemisphere_images': [{'title': 'Cerberus Hemisphere Enhanced',\n",
       "   'img_url': 'https://astrogeology.usgs.gov/cache/images/cfa62af2557222a02478f1fcd781d445_cerberus_enhanced.tif_full.jpg'},\n",
       "  {'title': 'Schiaparelli Hemisphere Enhanced',\n",
       "   'img_url': 'https://astrogeology.usgs.gov/cache/images/3cdd1cbf5e0813bba925c9030d13b62e_schiaparelli_enhanced.tif_full.jpg'},\n",
       "  {'title': 'Syrtis Major Hemisphere Enhanced',\n",
       "   'img_url': 'https://astrogeology.usgs.gov/cache/images/ae209b4e408bb6c3e67b6af38168cf28_syrtis_major_enhanced.tif_full.jpg'},\n",
       "  {'title': 'Valles Marineris Hemisphere Enhanced',\n",
       "   'img_url': 'https://astrogeology.usgs.gov/cache/images/7cf2da4bf549ed01c17f206327be4db7_valles_marineris_enhanced.tif_full.jpg'}],\n",
       " 'featured_title': 'Landing Day for InSight',\n",
       " 'featured_teaser': \"NASA's InSight spacecraft is on target for Mars landing at around noon PST today.\",\n",
       " 'featured_link': 'https://mars.nasa.gov/news/8391/landing-day-for-insight',\n",
       " 'featured_image_url': 'https://www.jpl.nasa.gov/spaceimages/images/largesize/PIA18914_hires.jpg',\n",
       " 'mars_weather': 'The ',\n",
       " 'marsHTML': '<table border=\"1\" class=\"dataframe\">\\n  <thead>\\n    <tr style=\"text-align: right;\">\\n      <th></th>\\n      <th>A</th>\\n      <th>B</th>\\n    </tr>\\n  </thead>\\n  <tbody>\\n    <tr>\\n      <th>0</th>\\n      <td>Equatorial Diameter:</td>\\n      <td>6,792 km\\\\n</td>\\n    </tr>\\n    <tr>\\n      <th>1</th>\\n      <td>Polar Diameter:</td>\\n      <td>6,752 km\\\\n</td>\\n    </tr>\\n    <tr>\\n      <th>2</th>\\n      <td>Mass:</td>\\n      <td>6.42 x 10^23 kg (10.7% Earth)</td>\\n    </tr>\\n    <tr>\\n      <th>3</th>\\n      <td>Moons:</td>\\n      <td>2 (Phobos &amp; Deimos)</td>\\n    </tr>\\n    <tr>\\n      <th>4</th>\\n      <td>Orbit Distance:</td>\\n      <td>227,943,824 km (1.52 AU)</td>\\n    </tr>\\n    <tr>\\n      <th>5</th>\\n      <td>Orbit Period:</td>\\n      <td>687 days (1.9 years)\\\\n</td>\\n    </tr>\\n    <tr>\\n      <th>6</th>\\n      <td>Surface Temperature:</td>\\n      <td>-153 to 20 °C</td>\\n    </tr>\\n    <tr>\\n      <th>7</th>\\n      <td>First Record:</td>\\n      <td>2nd millennium BC</td>\\n    </tr>\\n    <tr>\\n      <th>8</th>\\n      <td>Recorded By:</td>\\n      <td>Egyptian astronomers</td>\\n    </tr>\\n  </tbody>\\n</table>',\n",
       " 'timestamp': datetime.datetime(2018, 11, 26, 19, 5, 22, 476274)}"
      ]
     },
     "execution_count": 39,
     "metadata": {},
     "output_type": "execute_result"
    }
   ],
   "source": [
    "##### Create Dictionary\n",
    "#### Create Dictionary and 1st entries\n",
    "ScrapeDict = {}\n",
    "ScrapeDict = {'hemisphere_images': hemisphere_image_urls}\n",
    "\n",
    "# NASA Feature Title, Teaser, \n",
    "ScrapeDict['featured_title'] = featured_title\n",
    "ScrapeDict[\"featured_teaser\"] = featured_teaser\n",
    "ScrapeDict[\"featured_link\"] = featured_link\n",
    "\n",
    "# JPL Mars Space Image URL (Largesize jpg)\n",
    "ScrapeDict[\"featured_image_url\"] = featured_image_url\n",
    "\n",
    "# Mars Twitter Weather URL\n",
    "ScrapeDict[\"mars_weather\"] = mars_weather\n",
    "\n",
    "# Mars Table (html)\n",
    "ScrapeDict[\"marsHTML\"] = marsHTML\n",
    "\n",
    "# datetime timestamp\n",
    "ScrapeDict[\"timestamp\"] = datetime.datetime.utcnow()\n",
    "\n",
    "ScrapeDict"
   ]
  },
  {
   "cell_type": "code",
   "execution_count": 40,
   "metadata": {},
   "outputs": [
    {
     "name": "stdout",
     "output_type": "stream",
     "text": [
      "hemisphere_images\n",
      "featured_title\n",
      "featured_teaser\n",
      "featured_link\n",
      "featured_image_url\n",
      "mars_weather\n",
      "marsHTML\n",
      "timestamp\n"
     ]
    }
   ],
   "source": [
    "for x in ScrapeDict:\n",
    "    print(x)"
   ]
  },
  {
   "cell_type": "code",
   "execution_count": 42,
   "metadata": {},
   "outputs": [
    {
     "name": "stdout",
     "output_type": "stream",
     "text": [
      "[{'title': 'Cerberus Hemisphere Enhanced', 'img_url': 'https://astrogeology.usgs.gov/cache/images/cfa62af2557222a02478f1fcd781d445_cerberus_enhanced.tif_full.jpg'}, {'title': 'Schiaparelli Hemisphere Enhanced', 'img_url': 'https://astrogeology.usgs.gov/cache/images/3cdd1cbf5e0813bba925c9030d13b62e_schiaparelli_enhanced.tif_full.jpg'}, {'title': 'Syrtis Major Hemisphere Enhanced', 'img_url': 'https://astrogeology.usgs.gov/cache/images/ae209b4e408bb6c3e67b6af38168cf28_syrtis_major_enhanced.tif_full.jpg'}, {'title': 'Valles Marineris Hemisphere Enhanced', 'img_url': 'https://astrogeology.usgs.gov/cache/images/7cf2da4bf549ed01c17f206327be4db7_valles_marineris_enhanced.tif_full.jpg'}]\n"
     ]
    }
   ],
   "source": [
    "print(ScrapeDict['hemisphere_images'])"
   ]
  }
 ],
 "metadata": {
  "kernelspec": {
   "display_name": "Python [conda env:PythonData]",
   "language": "python",
   "name": "conda-env-PythonData-py"
  },
  "language_info": {
   "codemirror_mode": {
    "name": "ipython",
    "version": 3
   },
   "file_extension": ".py",
   "mimetype": "text/x-python",
   "name": "python",
   "nbconvert_exporter": "python",
   "pygments_lexer": "ipython3",
   "version": "3.6.5"
  }
 },
 "nbformat": 4,
 "nbformat_minor": 2
}
