{
 "cells": [
  {
   "cell_type": "code",
   "execution_count": 1,
   "metadata": {},
   "outputs": [],
   "source": [
    "# Dependencies\n",
    "\n",
    "from bs4 import BeautifulSoup as bs\n",
    "import pandas as pd\n",
    "import requests\n",
    "import urllib.request\n",
    "from splinter import Browser\n",
    "import lxml.html\n",
    "import re"
   ]
  },
  {
   "cell_type": "code",
   "execution_count": 43,
   "metadata": {},
   "outputs": [],
   "source": [
    "### URL's to be scraped\n",
    "\n",
    "# NASA Mars News Site - collect the latest News Title and Paragraph Text\n",
    "news_url = 'https://mars.nasa.gov/news/?page=0&per_page=40&order=publish_date+desc%2Ccreated_at+desc&search=&category=19%2C165%2C184%2C204&blank_scope=Latest'\n",
    "nasa_homeurl = 'https://mars.nasa.gov'\n",
    "\n",
    "# JPL Mars Space Images\n",
    "jpl_url = 'https://www.jpl.nasa.gov/spaceimages/?search=&category=Mars'\n",
    "PIAStart = \"https://www.jpl.nasa.gov/spaceimages/images/largesize/\"\n",
    "PIAEnd = \"_hires.jpg\"\n",
    "\n",
    "# Mars Weather - grab latest weather from Mars Weather twitter account\n",
    "weather_url = 'https://twitter.com/marswxreport?lang=en'\n",
    "\n",
    "# Mars Facts - use Pandas to scrape the table containing facts (more details below)\n",
    "facts_url = 'https://space-facts.com/mars/'\n",
    "\n",
    "# Mars Hemisphere Image - create a dictionary with the image url string and the hemisphere title to a list (more details below)\n",
    "Hems_url = 'https://astrogeology.usgs.gov/search/results?q=hemisphere+enhanced&k1=target&v1=Mars'\n",
    "\n",
    "\n",
    "# Splinter Path\n",
    "# Finally figured out why we needed splinter vs. requests.get, the target we were looking for isn't in the html\n",
    "# source code, it is dynamically loaded as JS and isn't searchable unless the browser is opened with splinter.\n",
    "executable_path = {'executable_path': 'chromedriver'}\n",
    "browser = Browser('chrome', **executable_path, headless=False)"
   ]
  },
  {
   "cell_type": "code",
   "execution_count": 40,
   "metadata": {},
   "outputs": [
    {
     "name": "stdout",
     "output_type": "stream",
     "text": [
      "Nasa Featured Title is:  NASA to Host Media Call on Next Mars Landing Site\n",
      "Nasa Featured Title Teaser is:  NASA will host a media teleconference at 9 a.m. PST (noon EST) Monday, Nov. 19, to provide details about the Mars 2020 rover’s landing site on the Red Planet.\n",
      "Link to the Nasa Featured Title is:  https://mars.nasa.gov/news/8386/nasa-to-host-media-call-on-next-mars-landing-site/\"\n"
     ]
    }
   ],
   "source": [
    "##### NASA Mars News\n",
    "##### Using new_url, find the top featured title and teaser for the story\n",
    "\n",
    "\n",
    "\n",
    "\n",
    "browser.visit(news_url)\n",
    "html = browser.html\n",
    "soup = bs(html, 'lxml-xml')\n",
    "\n",
    "featured_title =  soup.find('div', class_='content_title').a.text\n",
    "featured_teaser = soup.find('div', class_='article_teaser_body').text\n",
    "nasa_titlelink = re.findall('href=\"([^ ]*)', str(soup.find('div', class_='content_title')))\n",
    "featured_link = nasa_homeurl+nasa_titlelink[0]\n",
    "\n",
    "print(\"Nasa Featured Title is: \",featured_title)\n",
    "print(\"Nasa Featured Title Teaser is: \",featured_teaser)\n",
    "print(\"Link to the Nasa Featured Title is: \",featured_link)"
   ]
  },
  {
   "cell_type": "code",
   "execution_count": 156,
   "metadata": {},
   "outputs": [
    {
     "data": {
      "text/plain": [
       "'https://www.jpl.nasa.gov/spaceimages/images/largesize/PIA16919_hires.jpg'"
      ]
     },
     "execution_count": 156,
     "metadata": {},
     "output_type": "execute_result"
    }
   ],
   "source": [
    "######### JPL Mars Space Image URL (Largesize jpg)\n",
    "browser.visit(jpl_url)\n",
    "html = browser.html\n",
    "soup = bs(html, 'lxml-xml')\n",
    "picurlraw = soup.find('div', class_='carousel_items')\n",
    "\n",
    "for link in picurlraw.find_all('a'):\n",
    "    test99 = (link.get('data-fancybox-href'))\n",
    "\n",
    "aspos = test99.find('PIA')\n",
    "PIA = test99[aspos : (test99.find('_', aspos))]\n",
    "\n",
    "featured_image_url = PIAStart + PIA + PIAEnd\n",
    "featured_image_url"
   ]
  },
  {
   "cell_type": "code",
   "execution_count": 116,
   "metadata": {},
   "outputs": [
    {
     "data": {
      "text/plain": [
       "'Sol 2230 (2018-11-14), high -5C/23F, low -72C/-97F, pressure at 8.59 hPa, daylight 06:22-18:39'"
      ]
     },
     "execution_count": 116,
     "metadata": {},
     "output_type": "execute_result"
    }
   ],
   "source": [
    "######### Mars Twitter Weather URL\n",
    "browser.visit(weather_url)\n",
    "html = browser.html\n",
    "soup = bs(html, 'lxml-xml')\n",
    "tweetraw = soup.find('div', class_='js-tweet-text-container')\n",
    "\n",
    "tweetfix = tweetraw.find('p')\n",
    "tweetwords = []\n",
    "for x in tweetfix:\n",
    "    tweetwords.append(str(x))\n",
    "mars_weather = tweetwords[0]\n",
    "mars_weather"
   ]
  },
  {
   "cell_type": "code",
   "execution_count": 127,
   "metadata": {},
   "outputs": [
    {
     "data": {
      "text/html": [
       "<div>\n",
       "<style scoped>\n",
       "    .dataframe tbody tr th:only-of-type {\n",
       "        vertical-align: middle;\n",
       "    }\n",
       "\n",
       "    .dataframe tbody tr th {\n",
       "        vertical-align: top;\n",
       "    }\n",
       "\n",
       "    .dataframe thead th {\n",
       "        text-align: right;\n",
       "    }\n",
       "</style>\n",
       "<table border=\"1\" class=\"dataframe\">\n",
       "  <thead>\n",
       "    <tr style=\"text-align: right;\">\n",
       "      <th></th>\n",
       "      <th>A</th>\n",
       "      <th>B</th>\n",
       "    </tr>\n",
       "  </thead>\n",
       "  <tbody>\n",
       "    <tr>\n",
       "      <th>0</th>\n",
       "      <td>Equatorial Diameter:</td>\n",
       "      <td>6,792 km\\n</td>\n",
       "    </tr>\n",
       "    <tr>\n",
       "      <th>1</th>\n",
       "      <td>Polar Diameter:</td>\n",
       "      <td>6,752 km\\n</td>\n",
       "    </tr>\n",
       "    <tr>\n",
       "      <th>2</th>\n",
       "      <td>Mass:</td>\n",
       "      <td>6.42 x 10^23 kg (10.7% Earth)</td>\n",
       "    </tr>\n",
       "    <tr>\n",
       "      <th>3</th>\n",
       "      <td>Moons:</td>\n",
       "      <td>2 (Phobos &amp; Deimos)</td>\n",
       "    </tr>\n",
       "    <tr>\n",
       "      <th>4</th>\n",
       "      <td>Orbit Distance:</td>\n",
       "      <td>227,943,824 km (1.52 AU)</td>\n",
       "    </tr>\n",
       "    <tr>\n",
       "      <th>5</th>\n",
       "      <td>Orbit Period:</td>\n",
       "      <td>687 days (1.9 years)\\n</td>\n",
       "    </tr>\n",
       "    <tr>\n",
       "      <th>6</th>\n",
       "      <td>Surface Temperature:</td>\n",
       "      <td>-153 to 20 °C</td>\n",
       "    </tr>\n",
       "    <tr>\n",
       "      <th>7</th>\n",
       "      <td>First Record:</td>\n",
       "      <td>2nd millennium BC</td>\n",
       "    </tr>\n",
       "    <tr>\n",
       "      <th>8</th>\n",
       "      <td>Recorded By:</td>\n",
       "      <td>Egyptian astronomers</td>\n",
       "    </tr>\n",
       "  </tbody>\n",
       "</table>\n",
       "</div>"
      ],
      "text/plain": [
       "                       A                              B\n",
       "0   Equatorial Diameter:                     6,792 km\\n\n",
       "1        Polar Diameter:                     6,752 km\\n\n",
       "2                  Mass:  6.42 x 10^23 kg (10.7% Earth)\n",
       "3                 Moons:            2 (Phobos & Deimos)\n",
       "4        Orbit Distance:       227,943,824 km (1.52 AU)\n",
       "5          Orbit Period:         687 days (1.9 years)\\n\n",
       "6  Surface Temperature:                   -153 to 20 °C\n",
       "7          First Record:              2nd millennium BC\n",
       "8           Recorded By:           Egyptian astronomers"
      ]
     },
     "execution_count": 127,
     "metadata": {},
     "output_type": "execute_result"
    }
   ],
   "source": [
    "######### Mars Facts - Scrape table with pandas\n",
    "\n",
    "browser.visit(facts_url)\n",
    "html = browser.html\n",
    "soup = bs(html, 'lxml-xml')\n",
    "tableraw = soup.find('table', attrs={'id':'tablepress-mars'})\n",
    "table_rows = tableraw.find_all('tr')\n",
    "\n",
    "dataList = []\n",
    "for tr in table_rows:\n",
    "    td = tr.find_all('td')\n",
    "    row = [tr.text for tr in td]\n",
    "    dataList.append(row)\n",
    "pd.DataFrame(dataList, columns=[\"A\", \"B\"])"
   ]
  },
  {
   "cell_type": "code",
   "execution_count": 190,
   "metadata": {},
   "outputs": [
    {
     "data": {
      "text/plain": [
       "{'Cerberus Hemisphere Enhanced': 'https://astrogeology.usgs.gov/cache/images/cfa62af2557222a02478f1fcd781d445_cerberus_enhanced.tif_full.jpg',\n",
       " 'Schiaparelli Hemisphere Enhanced': 'https://astrogeology.usgs.gov/cache/images/3cdd1cbf5e0813bba925c9030d13b62e_schiaparelli_enhanced.tif_full.jpg',\n",
       " 'Syrtis Major Hemisphere Enhanced': 'https://astrogeology.usgs.gov/cache/images/ae209b4e408bb6c3e67b6af38168cf28_syrtis_major_enhanced.tif_full.jpg',\n",
       " 'Valles Marineris Hemisphere Enhanced': 'https://astrogeology.usgs.gov/cache/images/7cf2da4bf549ed01c17f206327be4db7_valles_marineris_enhanced.tif_full.jpg'}"
      ]
     },
     "execution_count": 190,
     "metadata": {},
     "output_type": "execute_result"
    }
   ],
   "source": [
    "######### Images of Mars Hemispheres ###############\n",
    "HemisphereTitles = []\n",
    "HemisphereLinks = []\n",
    "\n",
    "# Cerverus\n",
    "cerberusUrl = \"https://astrogeology.usgs.gov/search/map/Mars/Viking/cerberus_enhanced\"\n",
    "browser.visit(cerberusUrl)\n",
    "html = browser.html\n",
    "soup = bs(html, 'lxml-xml')\n",
    "cerberusHome = soup.find('img', class_='wide-image')\n",
    "cerberusStrRaw = (str(cerberusHome))\n",
    "cerberusPart = cerberusStrRaw[(cerberusStrRaw.find('/cache')):(cerberusStrRaw.find('jpg')+3)]\n",
    "cerberusLink = usgsStart + cerberusPart\n",
    "cerberusTitle = soup.find('h2', class_='title').text\n",
    "HemisphereTitles.append(cerberusTitle)\n",
    "HemisphereLinks.append(cerberusLink)\n",
    "\n",
    "#Schiaparelli\n",
    "schiaparelliUrl = \"https://astrogeology.usgs.gov/search/map/Mars/Viking/schiaparelli_enhanced\"\n",
    "browser.visit(schiaparelliUrl)\n",
    "html = browser.html\n",
    "soup = bs(html, 'lxml-xml')\n",
    "schiaparelliHome = soup.find('img', class_='wide-image')\n",
    "schiapStrRaw = (str(schiaparelliHome))\n",
    "schiapPart = schiapStrRaw[(schiapStrRaw.find('/cache')):(schiapStrRaw.find('jpg')+3)]\n",
    "schiapLink = usgsStart + schiapPart\n",
    "schiapTitle = soup.find('h2', class_='title').text\n",
    "HemisphereTitles.append(schiapTitle)\n",
    "HemisphereLinks.append(schiapLink)\n",
    "\n",
    "#Syrtis\n",
    "SyrtisUrl = \"https://astrogeology.usgs.gov/search/map/Mars/Viking/syrtis_major_enhanced\"\n",
    "browser.visit(SyrtisUrl)\n",
    "html = browser.html\n",
    "soup = bs(html, 'lxml-xml')\n",
    "SyrtisHome = soup.find('img', class_='wide-image')\n",
    "SyrtisStrRaw = (str(SyrtisHome))\n",
    "SyrtisPart = SyrtisStrRaw[(SyrtisStrRaw.find('/cache')):(SyrtisStrRaw.find('jpg')+3)]\n",
    "SyrtisLink = usgsStart + SyrtisPart\n",
    "SyrtisTitle = soup.find('h2', class_='title').text\n",
    "HemisphereTitles.append(SyrtisTitle)\n",
    "HemisphereLinks.append(SyrtisLink)\n",
    "\n",
    "#Valles\n",
    "VallesUrl = \"https://astrogeology.usgs.gov/search/map/Mars/Viking/valles_marineris_enhanced\"\n",
    "browser.visit(VallesUrl)\n",
    "html = browser.html\n",
    "soup = bs(html, 'lxml-xml')\n",
    "VallesHome = soup.find('img', class_='wide-image')\n",
    "VallesStrRaw = (str(VallesHome))\n",
    "VallesPart = VallesStrRaw[(VallesStrRaw.find('/cache')):(VallesStrRaw.find('jpg')+3)]\n",
    "VallesLink = usgsStart + VallesPart\n",
    "VallesTitle = soup.find('h2', class_='title').text\n",
    "HemisphereTitles.append(VallesTitle)\n",
    "HemisphereLinks.append(VallesLink)\n",
    "\n",
    "HemisphereDict = dict(zip(HemisphereTitles, HemisphereLinks))\n",
    "HemisphereDict"
   ]
  }
 ],
 "metadata": {
  "kernelspec": {
   "display_name": "Python [conda env:PythonData]",
   "language": "python",
   "name": "conda-env-PythonData-py"
  },
  "language_info": {
   "codemirror_mode": {
    "name": "ipython",
    "version": 3
   },
   "file_extension": ".py",
   "mimetype": "text/x-python",
   "name": "python",
   "nbconvert_exporter": "python",
   "pygments_lexer": "ipython3",
   "version": "3.6.5"
  }
 },
 "nbformat": 4,
 "nbformat_minor": 2
}
